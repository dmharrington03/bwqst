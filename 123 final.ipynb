{
 "cells": [
  {
   "cell_type": "code",
   "execution_count": 10,
   "metadata": {},
   "outputs": [],
   "source": [
    "import numpy as np\n",
    "import matplotlib.pyplot as plt\n",
    "from itertools import product\n",
    "from functools import reduce\n",
    "import matplotlib.cm as cm"
   ]
  },
  {
   "cell_type": "code",
   "execution_count": 11,
   "metadata": {},
   "outputs": [],
   "source": [
    "L = 2 # Number of qubits\n",
    "d = 2**L # Dimension of Hilbert space"
   ]
  },
  {
   "cell_type": "code",
   "execution_count": 12,
   "metadata": {},
   "outputs": [],
   "source": [
    "psi = np.array([1/np.sqrt(2), 0, 0, 1/np.sqrt(2)])\n",
    "rho = np.outer(psi, psi)"
   ]
  },
  {
   "cell_type": "code",
   "execution_count": 13,
   "metadata": {},
   "outputs": [],
   "source": [
    "# Define Pauli Matrices\n",
    "X = np.array([[0, 1], [1, 0]])\n",
    "Y = np.array([[0, -1j], [1j, 0]])\n",
    "Z = np.array([[1, 0], [0, -1]])\n",
    "paulis = np.array([X, Y, Z])\n",
    "\n",
    "def get_projectors(measure_settings: np.ndarray):\n",
    "    \"\"\"\n",
    "    Parameters:\n",
    "        measure_settings: m by L array of 0, 1, or 2 determining Pauli basis\n",
    "            where m is number of measurement settings\n",
    "    Returns:\n",
    "        Length md list of random Pauli basis projectors,\n",
    "        i.e. returns list of P_k for eigenspace projectors P_k\n",
    "    \"\"\"\n",
    "    eigvecs = np.array([ np.linalg.eig(sigma)[1] for sigma in paulis ])\n",
    "    # Number of qubits\n",
    "    m = measure_settings.shape[0]\n",
    "    d = 2**measure_settings.shape[1] # d = 2^L\n",
    "\n",
    "    # Set of dxd projectors for each basis for each measurement setting\n",
    "    P = np.zeros((m, d, d, d), dtype=\"complex128\")\n",
    "\n",
    "    for j, pauli_idx in enumerate(measure_settings):\n",
    "\n",
    "        pauli_eigs_l = eigvecs[pauli_idx]\n",
    "\n",
    "        # Get all combinations of 1 eigenvector from each pauli across L paulis\n",
    "        eigs_sets = list(product(*pauli_eigs_l)) # 2^L total\n",
    "\n",
    "        for k, set in enumerate(eigs_sets):\n",
    "            # Tensor product all eigenvectors\n",
    "            v_k = reduce(np.kron, set)\n",
    "            # Form projector onto eigenspace\n",
    "            proj_k = np.outer(np.conj(v_k), v_k)\n",
    "            P[j, k, :, :] = proj_k\n",
    "\n",
    "    return P"
   ]
  },
  {
   "cell_type": "code",
   "execution_count": 14,
   "metadata": {},
   "outputs": [],
   "source": [
    "def sampling_operator(U: np.ndarray, Pk: np.ndarray):\n",
    "    \"\"\"\n",
    "    Parameters:\n",
    "        U: dxd density matrix\n",
    "        Pk: m x d x d x d array of projection operators\n",
    "    Returns:\n",
    "        A(U) = [ [tr(UP_1), ...], ..., [..., tr(UP_md)] ]\n",
    "    \"\"\"\n",
    "    return np.array([[\n",
    "            np.real(np.trace(P @ U)) for P in P_setting ]\n",
    "        for P_setting in Pk ])"
   ]
  },
  {
   "cell_type": "code",
   "execution_count": 15,
   "metadata": {},
   "outputs": [],
   "source": [
    "N = 100 # Num. of measurement repeats\n",
    "m = 11 # Num. of measurement settings\n",
    "measures_test = np.random.randint(0, 3, size=(m, L))"
   ]
  },
  {
   "cell_type": "code",
   "execution_count": 16,
   "metadata": {},
   "outputs": [],
   "source": [
    "eigvecs = np.array([ np.linalg.eig(sigma)[1] for sigma in paulis ])"
   ]
  },
  {
   "cell_type": "code",
   "execution_count": 17,
   "metadata": {},
   "outputs": [],
   "source": [
    "proj_k = get_projectors(measures_test)"
   ]
  },
  {
   "cell_type": "code",
   "execution_count": 20,
   "metadata": {},
   "outputs": [
    {
     "data": {
      "text/plain": [
       "array([[0.5+0.j , 0. +0.5j, 0. +0.j , 0. +0.j ],\n",
       "       [0. -0.5j, 0.5+0.j , 0. -0.j , 0. +0.j ],\n",
       "       [0. +0.j , 0. +0.j , 0. +0.j , 0. +0.j ],\n",
       "       [0. -0.j , 0. +0.j , 0. -0.j , 0. +0.j ]])"
      ]
     },
     "execution_count": 20,
     "metadata": {},
     "output_type": "execute_result"
    }
   ],
   "source": [
    "proj_k[0][0]"
   ]
  },
  {
   "cell_type": "code",
   "execution_count": 18,
   "metadata": {},
   "outputs": [],
   "source": [
    "# Each measurement setting defines a new basis which is some multinomial distribution\n",
    "probabilities = sampling_operator(rho, proj_k)\n",
    "samples = np.array([ np.random.multinomial(N, basis_probs) for basis_probs in probabilities ])\n",
    "\n",
    "# Normalize and flatten\n",
    "Y = samples.flatten() / N"
   ]
  },
  {
   "cell_type": "code",
   "execution_count": 150,
   "metadata": {},
   "outputs": [
    {
     "data": {
      "text/plain": [
       "'\\n# Parameters\\nd = 32  \\nr = 4\\nn = 1000\\neta = 0.1 \\nepsilon = 1e-5 # convergence tolerance\\n\\n# Generate data\\nX = np.random.randn(n, d)\\nS = np.random.randn(d, r) @ np.random.randn(r, d)\\ny = X @ S @ X.T  \\n\\n# Initialize\\nU = np.random.randn(d,r)\\n\\nprev_loss = float(\"inf\")\\n\\nwhile True:\\n\\n    for i in range(n):\\n    \\n    # Get sample\\n        x = X[i,:]\\n    \\n    # Compute stochastic gradient    \\n        g = np.outer(x, x) \\n        g /= np.sqrt(x.T @ U @ U.T @ x)\\n\\n    # SGD update\\n        U = (np.eye(d) - eta*g) @ U\\n\\n  # Compute loss\\n        loss = 0.5/n * np.linalg.norm(np.sqrt(y) - np.sqrt(X @ U @ U.T @ X.T))  \\n\\n  # Check convergence\\n        if np.abs(prev_loss - loss) < epsilon:\\n            break\\n  \\n        prev_loss = loss'"
      ]
     },
     "execution_count": 150,
     "metadata": {},
     "output_type": "execute_result"
    }
   ],
   "source": [
    "\n",
    "\"\"\"\n",
    "# Parameters\n",
    "d = 32  \n",
    "r = 4\n",
    "n = 1000\n",
    "eta = 0.1 \n",
    "epsilon = 1e-5 # convergence tolerance\n",
    "\n",
    "# Generate data\n",
    "X = np.random.randn(n, d)\n",
    "S = np.random.randn(d, r) @ np.random.randn(r, d)\n",
    "y = X @ S @ X.T  \n",
    "\n",
    "# Initialize\n",
    "U = np.random.randn(d,r)\n",
    "\n",
    "prev_loss = float(\"inf\")\n",
    "\n",
    "while True:\n",
    "\n",
    "    for i in range(n):\n",
    "    \n",
    "    # Get sample\n",
    "        x = X[i,:]\n",
    "    \n",
    "    # Compute stochastic gradient    \n",
    "        g = np.outer(x, x) \n",
    "        g /= np.sqrt(x.T @ U @ U.T @ x)\n",
    "\n",
    "    # SGD update\n",
    "        U = (np.eye(d) - eta*g) @ U\n",
    "\n",
    "  # Compute loss\n",
    "        loss = 0.5/n * np.linalg.norm(np.sqrt(y) - np.sqrt(X @ U @ U.T @ X.T))  \n",
    "\n",
    "  # Check convergence\n",
    "        if np.abs(prev_loss - loss) < epsilon:\n",
    "            break\n",
    "  \n",
    "        prev_loss = loss\"\"\""
   ]
  },
  {
   "cell_type": "code",
   "execution_count": 151,
   "metadata": {},
   "outputs": [
    {
     "data": {
      "text/plain": [
       "'def gradient_descent(proj_k):\\n    \\n    eta = 0.05\\n    s = np.zeros((4,4)) + np.zeros((4,4))*1j\\n    U = np.random.randn(4, 4)#init U\\n    for i in range(len(proj_k)):\\n        for j in range(len(proj_k[i])):\\n            num = ((proj_k[i][j] @ proj_k[i][j].conj().T) @ U)\\n            num = num / np.linalg.norm(U.T @ proj_k[i][j])\\n            s += num\\n            s = s * (eta/len(proj_k))\\n    U = (1-eta)*U - s'"
      ]
     },
     "execution_count": 151,
     "metadata": {},
     "output_type": "execute_result"
    }
   ],
   "source": [
    "\"\"\"def gradient_descent(proj_k):\n",
    "    \n",
    "    eta = 0.05\n",
    "    s = np.zeros((4,4)) + np.zeros((4,4))*1j\n",
    "    U = np.random.randn(4, 4)#init U\n",
    "    for i in range(len(proj_k)):\n",
    "        for j in range(len(proj_k[i])):\n",
    "            num = ((proj_k[i][j] @ proj_k[i][j].conj().T) @ U)\n",
    "            num = num / np.linalg.norm(U.T @ proj_k[i][j])\n",
    "            s += num\n",
    "            s = s * (eta/len(proj_k))\n",
    "    U = (1-eta)*U - s\"\"\""
   ]
  },
  {
   "cell_type": "code",
   "execution_count": 152,
   "metadata": {},
   "outputs": [
    {
     "data": {
      "text/plain": [
       "'U = np.random.randn(4, 4)'"
      ]
     },
     "execution_count": 152,
     "metadata": {},
     "output_type": "execute_result"
    }
   ],
   "source": [
    "\"U = np.random.randn(4, 4)\""
   ]
  },
  {
   "cell_type": "code",
   "execution_count": 153,
   "metadata": {},
   "outputs": [
    {
     "data": {
      "text/plain": [
       "'U'"
      ]
     },
     "execution_count": 153,
     "metadata": {},
     "output_type": "execute_result"
    }
   ],
   "source": [
    "\"U\""
   ]
  },
  {
   "cell_type": "code",
   "execution_count": 154,
   "metadata": {},
   "outputs": [
    {
     "data": {
      "text/plain": [
       "'((proj_k[0][0] @ proj_k[0][0].conj().T) @ U).shape'"
      ]
     },
     "execution_count": 154,
     "metadata": {},
     "output_type": "execute_result"
    }
   ],
   "source": [
    "\"\"\"((proj_k[0][0] @ proj_k[0][0].conj().T) @ U).shape\"\"\""
   ]
  },
  {
   "cell_type": "code",
   "execution_count": 155,
   "metadata": {},
   "outputs": [
    {
     "data": {
      "text/plain": [
       "'gradient_descent(proj_k)\\neta = 0.05\\n    s = np.zeros((4,4)) + np.zeros((4,4))*1j\\n    U = np.random.randn(4, 4)#init U\\n    for i in range(len(proj_k)):\\n        for j in range(len(proj_k[i])):\\n            num = ((proj_k[i][j] @ proj_k[i][j].conj().T) @ U)\\n            num = num / np.linalg.norm(U.T @ proj_k[i][j])\\n            s += num\\n            s = s * (eta/len(proj_k))\\n    U = (1-eta)*U - s'"
      ]
     },
     "execution_count": 155,
     "metadata": {},
     "output_type": "execute_result"
    }
   ],
   "source": [
    "\"\"\"gradient_descent(proj_k)\n",
    "eta = 0.05\n",
    "    s = np.zeros((4,4)) + np.zeros((4,4))*1j\n",
    "    U = np.random.randn(4, 4)#init U\n",
    "    for i in range(len(proj_k)):\n",
    "        for j in range(len(proj_k[i])):\n",
    "            num = ((proj_k[i][j] @ proj_k[i][j].conj().T) @ U)\n",
    "            num = num / np.linalg.norm(U.T @ proj_k[i][j])\n",
    "            s += num\n",
    "            s = s * (eta/len(proj_k))\n",
    "    U = (1-eta)*U - s\"\"\""
   ]
  },
  {
   "cell_type": "code",
   "execution_count": 156,
   "metadata": {},
   "outputs": [],
   "source": [
    "eta = 0.005\n",
    "s = np.zeros((4,4)) + np.zeros((4,4))*1j\n",
    "U = np.random.randn(4, 4)#init U\n",
    "U_ = np.random.randn(4, 4)\n",
    "epsilon = 10e-10\n",
    "steps = 0\n",
    "while (np.linalg.norm(U_ - U) > epsilon and steps < 10000):\n",
    "    prev_dist = np.linalg.norm(U_ - U)\n",
    "    steps+=1\n",
    "    U_ = U\n",
    "    for i in range(len(proj_k)):\n",
    "        for j in range(len(proj_k[i])):\n",
    "            num = ((proj_k[i][j] @ proj_k[i][j].conj().T) @ U)\n",
    "            num = num / np.linalg.norm(U.T @ proj_k[i][j])\n",
    "            s += num\n",
    "            s = s * (eta/len(proj_k))\n",
    "    U = (1-eta)*U - s\n",
    "    if prev_dist < np.linalg.norm(U - U_):\n",
    "        eta /= 2"
   ]
  },
  {
   "cell_type": "code",
   "execution_count": 157,
   "metadata": {},
   "outputs": [
    {
     "data": {
      "text/plain": [
       "array([[ 5.16780484e-03+5.04365303e-09j,  1.23500456e-03-2.76684331e-09j,\n",
       "         3.37062427e-03-1.20713125e-09j,  1.39469880e-03+2.88588157e-09j],\n",
       "       [ 7.82856958e-03-3.32942239e-09j, -4.29459091e-03-7.95667052e-10j,\n",
       "        -1.87366441e-03-2.17156669e-09j,  4.47935704e-03-8.98552294e-10j],\n",
       "       [ 9.03981949e-04-1.11396072e-04j,  9.38540385e-05-5.05772559e-04j,\n",
       "        -2.08657279e-03-4.34133478e-03j,  6.97956415e-04-2.14116599e-03j],\n",
       "       [-1.11406927e-04-9.03893874e-04j, -5.05821841e-04-9.38448944e-05j,\n",
       "        -4.34175779e-03+2.08636949e-03j, -2.14137462e-03-6.97888414e-04j]])"
      ]
     },
     "execution_count": 157,
     "metadata": {},
     "output_type": "execute_result"
    }
   ],
   "source": [
    "U"
   ]
  },
  {
   "cell_type": "code",
   "execution_count": 158,
   "metadata": {},
   "outputs": [
    {
     "data": {
      "text/plain": [
       "array([[ 5.16785531e-03+5.04370228e-09j,  1.23501662e-03-2.76687033e-09j,\n",
       "         3.37065719e-03-1.20714303e-09j,  1.39471242e-03+2.88590975e-09j],\n",
       "       [ 7.82864604e-03-3.32945490e-09j, -4.29463285e-03-7.95674822e-10j,\n",
       "        -1.87368270e-03-2.17158789e-09j,  4.47940078e-03-8.98561069e-10j],\n",
       "       [ 9.03992690e-04-1.11397395e-04j,  9.38551537e-05-5.05778563e-04j,\n",
       "        -2.08659758e-03-4.34138631e-03j,  6.97964709e-04-2.14119141e-03j],\n",
       "       [-1.11408251e-04-9.03904605e-04j, -5.05827851e-04-9.38460084e-05j,\n",
       "        -4.34180938e-03+2.08639426e-03j, -2.14140007e-03-6.97896699e-04j]])"
      ]
     },
     "execution_count": 158,
     "metadata": {},
     "output_type": "execute_result"
    }
   ],
   "source": [
    "U_"
   ]
  },
  {
   "cell_type": "code",
   "execution_count": 159,
   "metadata": {},
   "outputs": [
    {
     "data": {
      "text/plain": [
       "1.4865556910103759e-07"
      ]
     },
     "execution_count": 159,
     "metadata": {},
     "output_type": "execute_result"
    }
   ],
   "source": [
    "np.linalg.norm(U-U_)"
   ]
  },
  {
   "cell_type": "code",
   "execution_count": 160,
   "metadata": {},
   "outputs": [
    {
     "data": {
      "text/plain": [
       "10000"
      ]
     },
     "execution_count": 160,
     "metadata": {},
     "output_type": "execute_result"
    }
   ],
   "source": [
    "steps"
   ]
  },
  {
   "cell_type": "code",
   "execution_count": null,
   "metadata": {},
   "outputs": [],
   "source": []
  }
 ],
 "metadata": {
  "kernelspec": {
   "display_name": "Python 3",
   "language": "python",
   "name": "python3"
  },
  "language_info": {
   "codemirror_mode": {
    "name": "ipython",
    "version": 3
   },
   "file_extension": ".py",
   "mimetype": "text/x-python",
   "name": "python",
   "nbconvert_exporter": "python",
   "pygments_lexer": "ipython3",
   "version": "3.7.3"
  }
 },
 "nbformat": 4,
 "nbformat_minor": 2
}
